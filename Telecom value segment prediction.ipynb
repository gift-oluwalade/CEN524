{
 "cells": [
  {
   "cell_type": "code",
   "execution_count": 2,
   "id": "7f706570-f298-4894-ade5-009b89133f3b",
   "metadata": {},
   "outputs": [
    {
     "name": "stdout",
     "output_type": "stream",
     "text": [
      "Data normalized and saved as 'normalized_test_telecom_customers.csv'\n"
     ]
    }
   ],
   "source": [
    "import pandas as pd\n",
    "from sklearn.preprocessing import StandardScaler\n",
    "\n",
    "# Load your dataset\n",
    "df = pd.read_csv('test_telecom_customers.csv')\n",
    "\n",
    "# Select numerical columns for normalization\n",
    "numerical_cols = ['Year_of_Birth']\n",
    "\n",
    "# Initialize scaler\n",
    "scaler = StandardScaler()\n",
    "\n",
    "# Fit and transform\n",
    "df[numerical_cols] = scaler.fit_transform(df[numerical_cols])\n",
    "\n",
    "# Save the normalized dataset\n",
    "df.to_csv('normalized_test_telecom_customers.csv', index=False)\n",
    "\n",
    "print(\"Data normalized and saved as 'normalized_test_telecom_customers.csv'\")\n",
    "\n"
   ]
  },
  {
   "cell_type": "code",
   "execution_count": 22,
   "id": "832e78f8-4bfb-4d5d-91b9-ce70184cac6a",
   "metadata": {},
   "outputs": [
    {
     "name": "stdout",
     "output_type": "stream",
     "text": [
      "✅ Predictions saved to 'test_telecom_customers_with_predictions.csv'\n"
     ]
    }
   ],
   "source": [
    "import pandas as pd\n",
    "\n",
    "# Load training and test datasets\n",
    "train_df = pd.read_csv(\"custm1_training.csv\")\n",
    "test_df = pd.read_csv(\"test_telecom_customers.csv\")\n",
    "\n",
    "from sklearn.preprocessing import LabelEncoder\n",
    "\n",
    "# Convert year of birth to age\n",
    "train_df['Age'] = 2025 - train_df['year_of_birth']\n",
    "test_df['Age'] = 2025 - test_df['year_of_birth']\n",
    "\n",
    "# Drop original Year_of_Birth\n",
    "train_df.drop(columns=['year_of_birth'], inplace=True)\n",
    "test_df.drop(columns=['year_of_birth'], inplace=True)\n",
    "\n",
    "# Encode categorical features\n",
    "cat_features = ['mobile_type', 'system_status']\n",
    "encoders = {}\n",
    "\n",
    "for col in cat_features:\n",
    "    le = LabelEncoder()\n",
    "    train_df[col] = le.fit_transform(train_df[col])\n",
    "    test_df[col] = le.transform(test_df[col])\n",
    "    encoders[col] = le\n",
    "\n",
    "\n",
    "# Encode the target\n",
    "target_encoder = LabelEncoder()\n",
    "train_df['value_segment'] = target_encoder.fit_transform(train_df['value_segment'])\n",
    "\n",
    "from sklearn.ensemble import RandomForestClassifier\n",
    "\n",
    "# Features and target\n",
    "X_train = train_df[['mobile_type', 'system_status', 'Age']]\n",
    "y_train = train_df['value_segment']\n",
    "\n",
    "# Train the model\n",
    "clf = RandomForestClassifier(random_state=42)\n",
    "clf.fit(X_train, y_train)\n",
    "\n",
    "# Prepare test data\n",
    "X_test = test_df[['mobile_type', 'system_status', 'Age']]\n",
    "\n",
    "# Predict\n",
    "test_df['Predicted_value_segment'] = target_encoder.inverse_transform(clf.predict(X_test))\n",
    "\n",
    "# Save predictions\n",
    "test_df.to_csv(\"test_telecom_customers_with_predictions.csv\", index=False)\n",
    "print(\"✅ Predictions saved to 'test_telecom_customers_with_predictions.csv'\")\n",
    "\n"
   ]
  },
  {
   "cell_type": "code",
   "execution_count": 14,
   "id": "8a479342-c44c-44b6-96d9-cdfb1b800ae6",
   "metadata": {},
   "outputs": [
    {
     "name": "stdout",
     "output_type": "stream",
     "text": [
      "Index(['msisdn', 'gender', 'system_status', 'mobile_type', 'value_segment',\n",
      "       'Age'],\n",
      "      dtype='object')\n",
      "Index(['msisdn', 'gender', 'system_status', 'mobile_type', 'value_segment',\n",
      "       'Age'],\n",
      "      dtype='object')\n"
     ]
    }
   ],
   "source": [
    "print(train_df.columns)\n",
    "print(test_df.columns)\n",
    "\n"
   ]
  },
  {
   "cell_type": "code",
   "execution_count": null,
   "id": "edc583fe-1485-4e52-a4fe-dbecec346d20",
   "metadata": {},
   "outputs": [],
   "source": []
  }
 ],
 "metadata": {
  "kernelspec": {
   "display_name": "Python 3 (ipykernel)",
   "language": "python",
   "name": "python3"
  },
  "language_info": {
   "codemirror_mode": {
    "name": "ipython",
    "version": 3
   },
   "file_extension": ".py",
   "mimetype": "text/x-python",
   "name": "python",
   "nbconvert_exporter": "python",
   "pygments_lexer": "ipython3",
   "version": "3.9.18"
  }
 },
 "nbformat": 4,
 "nbformat_minor": 5
}
